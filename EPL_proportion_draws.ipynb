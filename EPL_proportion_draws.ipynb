{
  "nbformat": 4,
  "nbformat_minor": 0,
  "metadata": {
    "colab": {
      "name": "EPL_proportion_draws.ipynb",
      "provenance": [],
      "collapsed_sections": []
    },
    "kernelspec": {
      "name": "python3",
      "display_name": "Python 3"
    }
  },
  "cells": [
    {
      "cell_type": "code",
      "metadata": {
        "id": "Dw553QJTxvk6"
      },
      "source": [
        "!pip install understat\n",
        "!pip install nest_asyncio\n",
        "import nest_asyncio\n",
        "nest_asyncio.apply()\n",
        "\n",
        "import asyncio\n",
        "import json\n",
        "import aiohttp\n",
        "from understat import Understat\n",
        "import pandas as pd\n",
        "import matplotlib.pyplot as plt\n",
        "import numpy as np"
      ],
      "execution_count": null,
      "outputs": []
    },
    {
      "cell_type": "code",
      "metadata": {
        "id": "Q8el7y6cxgph"
      },
      "source": [
        "async def get_table(year):\n",
        "    async with aiohttp.ClientSession() as session:\n",
        "        understat = Understat(session)\n",
        "        table = await understat.get_league_table(\"EPL\", year)\n",
        "        # print(table)\n",
        "        return table\n",
        "\n",
        "loop = asyncio.get_event_loop()\n",
        "table = loop.run_until_complete(get_table(\"2020\"))\n",
        "\n"
      ],
      "execution_count": null,
      "outputs": []
    },
    {
      "cell_type": "code",
      "metadata": {
        "id": "CalYNVmd1Xr6"
      },
      "source": [
        "seasons = [\"2014\",\"2015\",\"2016\",\"2017\",\"2018\",\"2019\",\"2020\"]\n",
        "wins_all = []\n",
        "draws_all= []\n",
        "for season in seasons:\n",
        "  table = loop.run_until_complete(get_table(season))\n",
        "  wins = 0\n",
        "  draws = 0\n",
        "  for row in table[1:]:\n",
        "    wins+=row[2]\n",
        "    draws+=row[3]\n",
        "  draws/=2\n",
        "  wins_all.append(wins)\n",
        "  draws_all.append(draws)"
      ],
      "execution_count": null,
      "outputs": []
    },
    {
      "cell_type": "code",
      "metadata": {
        "id": "eqUiOfaf1YGc"
      },
      "source": [
        "win_prop = np.divide(wins_all,draws_all)\n",
        "win_prop_mean_excl_2020 = np.mean(np.divide(wins_all[:-1],draws_all[:-1]))\n"
      ],
      "execution_count": null,
      "outputs": []
    },
    {
      "cell_type": "code",
      "metadata": {
        "colab": {
          "base_uri": "https://localhost:8080/",
          "height": 295
        },
        "id": "8FJ0PY6a1n7Q",
        "outputId": "7a58d227-b51a-4be6-9e4c-9eac7b311cf5"
      },
      "source": [
        "plt.figure()\n",
        "plt.scatter(seasons,win_prop,s = 70)\n",
        "plt.title(\"Mean of last 6 seasons = {:.2f}; This season = {:.2f}\".format(win_prop_mean_excl_2020,wins_all[-1]/draws_all[-1]))\n",
        "plt.xlabel(\"Season\")\n",
        "plt.ylabel(\"Proportion of wins:draws\")\n",
        "plt.show()"
      ],
      "execution_count": null,
      "outputs": [
        {
          "output_type": "display_data",
          "data": {
            "image/png": "[encoded data removed]",
            "text/plain": [
              "<Figure size 432x288 with 1 Axes>"
            ]
          },
          "metadata": {
            "tags": [],
            "needs_background": "light"
          }
        }
      ]
    },
    {
      "cell_type": "code",
      "metadata": {
        "id": "conyX7wa3GpO"
      },
      "source": [
        ""
      ],
      "execution_count": null,
      "outputs": []
    }
  ]
}