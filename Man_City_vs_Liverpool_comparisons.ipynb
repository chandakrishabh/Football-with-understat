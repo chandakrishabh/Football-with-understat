{
  "nbformat": 4,
  "nbformat_minor": 0,
  "metadata": {
    "colab": {
      "name": "best_team_in_epl.ipynb",
      "provenance": [],
      "collapsed_sections": []
    },
    "kernelspec": {
      "name": "python3",
      "display_name": "Python 3"
    }
  },
  "cells": [
    {
      "cell_type": "markdown",
      "metadata": {
        "id": "EiF5LEgJDagO"
      },
      "source": [
        "#Plot xG and xPts for liverpool and man city to show how liverpool have over achieved while city have performed in line"
      ]
    },
    {
      "cell_type": "code",
      "metadata": {
        "id": "X8eS9JqM9wPw"
      },
      "source": [
        "!pip install understat\n",
        "!pip install nest_asyncio\n",
        "import nest_asyncio\n",
        "nest_asyncio.apply()\n",
        "\n",
        "import asyncio\n",
        "import json\n",
        "import aiohttp\n",
        "from understat import Understat\n",
        "import pandas as pd\n",
        "import matplotlib.pyplot as plt\n",
        "import numpy as np"
      ],
      "execution_count": null,
      "outputs": []
    },
    {
      "cell_type": "code",
      "metadata": {
        "id": "7sWlunNi-AJX"
      },
      "source": [
        "async def get_table(year):\n",
        "    async with aiohttp.ClientSession() as session:\n",
        "        understat = Understat(session)\n",
        "        table = await understat.get_league_table(\"EPL\", year)\n",
        "        # print(table)\n",
        "        return table\n",
        "\n",
        "loop = asyncio.get_event_loop()\n",
        "table = loop.run_until_complete(get_table(\"2019\"))"
      ],
      "execution_count": null,
      "outputs": []
    },
    {
      "cell_type": "code",
      "metadata": {
        "id": "YjmQBvJk-EH6"
      },
      "source": [
        "seasons = [\"2014\",\"2015\",\"2016\",\"2017\",\"2018\",\"2019\",\"2020\"]\n",
        "columns = ['Liverpool Pts', 'Liverpool xPts','Liverpool GF', 'Liverpool xG','City Pts', 'City xPts','City GF', 'City xG']\n",
        "df = pd.DataFrame(index=seasons, columns = columns)\n",
        "\n",
        "for season in seasons:\n",
        "  table = loop.run_until_complete(get_table(season))\n",
        "  for row in table:\n",
        "    if row[0] == 'Liverpool':\n",
        "      df.at[season, columns[0]]= row[7]\n",
        "      df.at[season, columns[1]]= row[13]\n",
        "      df.at[season, columns[2]]= row[5]\n",
        "      df.at[season, columns[3]]=row[8]\n",
        "    if row[0] == 'Manchester City':\n",
        "      df.at[season, columns[4]]= row[7]\n",
        "      df.at[season, columns[5]]= row[13]\n",
        "      df.at[season, columns[6]]= row[5]\n",
        "      df.at[season, columns[7]]=row[8]"
      ],
      "execution_count": null,
      "outputs": []
    },
    {
      "cell_type": "code",
      "metadata": {
        "colab": {
          "base_uri": "https://localhost:8080/",
          "height": 266
        },
        "id": "FFJVOi3I_5Ds",
        "outputId": "8cd52b58-9f6a-4c04-8579-16167069819c"
      },
      "source": [
        "df\n"
      ],
      "execution_count": null,
      "outputs": [
        {
          "output_type": "execute_result",
          "data": {
            "text/html": [
              "<div>\n",
              "<style scoped>\n",
              "    .dataframe tbody tr th:only-of-type {\n",
              "        vertical-align: middle;\n",
              "    }\n",
              "\n",
              "    .dataframe tbody tr th {\n",
              "        vertical-align: top;\n",
              "    }\n",
              "\n",
              "    .dataframe thead th {\n",
              "        text-align: right;\n",
              "    }\n",
              "</style>\n",
              "<table border=\"1\" class=\"dataframe\">\n",
              "  <thead>\n",
              "    <tr style=\"text-align: right;\">\n",
              "      <th></th>\n",
              "      <th>Liverpool Pts</th>\n",
              "      <th>Liverpool xPts</th>\n",
              "      <th>Liverpool GF</th>\n",
              "      <th>Liverpool xG</th>\n",
              "      <th>City Pts</th>\n",
              "      <th>City xPts</th>\n",
              "      <th>City GF</th>\n",
              "      <th>City xG</th>\n",
              "    </tr>\n",
              "  </thead>\n",
              "  <tbody>\n",
              "    <tr>\n",
              "      <th>2014</th>\n",
              "      <td>62</td>\n",
              "      <td>61.17</td>\n",
              "      <td>52</td>\n",
              "      <td>51.7</td>\n",
              "      <td>79</td>\n",
              "      <td>73.1</td>\n",
              "      <td>83</td>\n",
              "      <td>75.82</td>\n",
              "    </tr>\n",
              "    <tr>\n",
              "      <th>2015</th>\n",
              "      <td>60</td>\n",
              "      <td>63.29</td>\n",
              "      <td>63</td>\n",
              "      <td>54.37</td>\n",
              "      <td>66</td>\n",
              "      <td>70.14</td>\n",
              "      <td>71</td>\n",
              "      <td>66.2</td>\n",
              "    </tr>\n",
              "    <tr>\n",
              "      <th>2016</th>\n",
              "      <td>76</td>\n",
              "      <td>69.83</td>\n",
              "      <td>78</td>\n",
              "      <td>66.63</td>\n",
              "      <td>78</td>\n",
              "      <td>85.41</td>\n",
              "      <td>80</td>\n",
              "      <td>79.85</td>\n",
              "    </tr>\n",
              "    <tr>\n",
              "      <th>2017</th>\n",
              "      <td>75</td>\n",
              "      <td>79.38</td>\n",
              "      <td>84</td>\n",
              "      <td>77.49</td>\n",
              "      <td>100</td>\n",
              "      <td>91.09</td>\n",
              "      <td>106</td>\n",
              "      <td>91.43</td>\n",
              "    </tr>\n",
              "    <tr>\n",
              "      <th>2018</th>\n",
              "      <td>97</td>\n",
              "      <td>83.45</td>\n",
              "      <td>89</td>\n",
              "      <td>79.46</td>\n",
              "      <td>98</td>\n",
              "      <td>90.64</td>\n",
              "      <td>95</td>\n",
              "      <td>93.72</td>\n",
              "    </tr>\n",
              "    <tr>\n",
              "      <th>2019</th>\n",
              "      <td>99</td>\n",
              "      <td>74.28</td>\n",
              "      <td>85</td>\n",
              "      <td>75.19</td>\n",
              "      <td>81</td>\n",
              "      <td>86.76</td>\n",
              "      <td>102</td>\n",
              "      <td>102.21</td>\n",
              "    </tr>\n",
              "    <tr>\n",
              "      <th>2020</th>\n",
              "      <td>40</td>\n",
              "      <td>42.99</td>\n",
              "      <td>45</td>\n",
              "      <td>44.61</td>\n",
              "      <td>53</td>\n",
              "      <td>53.24</td>\n",
              "      <td>46</td>\n",
              "      <td>48.46</td>\n",
              "    </tr>\n",
              "  </tbody>\n",
              "</table>\n",
              "</div>"
            ],
            "text/plain": [
              "     Liverpool Pts Liverpool xPts Liverpool GF  ... City xPts City GF City xG\n",
              "2014            62          61.17           52  ...      73.1      83   75.82\n",
              "2015            60          63.29           63  ...     70.14      71    66.2\n",
              "2016            76          69.83           78  ...     85.41      80   79.85\n",
              "2017            75          79.38           84  ...     91.09     106   91.43\n",
              "2018            97          83.45           89  ...     90.64      95   93.72\n",
              "2019            99          74.28           85  ...     86.76     102  102.21\n",
              "2020            40          42.99           45  ...     53.24      46   48.46\n",
              "\n",
              "[7 rows x 8 columns]"
            ]
          },
          "metadata": {
            "tags": []
          },
          "execution_count": 36
        }
      ]
    },
    {
      "cell_type": "code",
      "metadata": {
        "colab": {
          "base_uri": "https://localhost:8080/",
          "height": 441
        },
        "id": "31-2ZDFj_5Xz",
        "outputId": "ab9a40a4-9232-445f-db19-80079eecb77c"
      },
      "source": [
        "figure, ((ax1,ax2),(ax3,ax4)) = plt.subplots(2,2,tight_layout = True,figsize = (10,6))\n",
        "\n",
        "df.plot(y=columns[:2],kind = 'bar',ax = ax1)\n",
        "df.plot(y=columns[2:4],kind = 'bar',ax = ax3)\n",
        "\n",
        "df.plot(y=columns[4:6],kind = 'bar',ax = ax2)\n",
        "df.plot(y=columns[6:8],kind = 'bar',ax = ax4)\n",
        "plt.show()"
      ],
      "execution_count": null,
      "outputs": [
        {
          "output_type": "display_data",
          "data": {
            "image/png": "[encoded data removed]",
            "text/plain": [
              "<Figure size 720x432 with 4 Axes>"
            ]
          },
          "metadata": {
            "tags": [],
            "needs_background": "light"
          }
        }
      ]
    },
    {
      "cell_type": "code",
      "metadata": {
        "id": "Q4Oi9ry3_70C"
      },
      "source": [
        ""
      ],
      "execution_count": null,
      "outputs": []
    },
    {
      "cell_type": "code",
      "metadata": {
        "id": "rGmDE-qqDgAy"
      },
      "source": [
        ""
      ],
      "execution_count": null,
      "outputs": []
    }
  ]
}